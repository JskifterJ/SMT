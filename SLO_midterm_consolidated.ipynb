{
  "nbformat": 4,
  "nbformat_minor": 0,
  "metadata": {
    "colab": {
      "provenance": [],
      "toc_visible": true,
      "include_colab_link": true
    },
    "kernelspec": {
      "name": "python3",
      "display_name": "Python 3"
    },
    "language_info": {
      "name": "python"
    }
  },
  "cells": [
    {
      "cell_type": "markdown",
      "metadata": {
        "id": "view-in-github",
        "colab_type": "text"
      },
      "source": [
        "<a href=\"https://colab.research.google.com/github/JskifterJ/SMT/blob/main/SLO_midterm_consolidated.ipynb\" target=\"_parent\"><img src=\"https://colab.research.google.com/assets/colab-badge.svg\" alt=\"Open In Colab\"/></a>"
      ]
    },
    {
      "cell_type": "markdown",
      "source": [
        "## Planzer: Optimizing distribution routes\n",
        "\n"
      ],
      "metadata": {
        "id": "SB0b5-BxsrwE"
      }
    },
    {
      "cell_type": "code",
      "source": [
        "!pip install ortools"
      ],
      "metadata": {
        "id": "fp5QkorDlQYo"
      },
      "execution_count": null,
      "outputs": []
    },
    {
      "cell_type": "code",
      "execution_count": null,
      "metadata": {
        "colab": {
          "base_uri": "https://localhost:8080/"
        },
        "id": "lF9xDit8hlkr",
        "outputId": "bea0f870-ff4b-43b3-90cc-91ce56516b14"
      },
      "outputs": [
        {
          "output_type": "stream",
          "name": "stdout",
          "text": [
            "Route for vehicle 0:\n",
            " 0 Load(0) ->  9 Load(1875) ->  0 Load(1875)\n",
            "Distance of the route: 598.0km\n",
            "Load of the route: 1875\n",
            "\n",
            "Route for vehicle 1:\n",
            " 0 Load(0) ->  2 Load(37) ->  4 Load(187) ->  7 Load(416) ->  6 Load(1295) ->  8 Load(1611) ->  0 Load(1611)\n",
            "Distance of the route: 627.5km\n",
            "Load of the route: 1611\n",
            "\n",
            "Route for vehicle 2:\n",
            " 0 Load(0) ->  5 Load(150) ->  3 Load(613) ->  11 Load(838) ->  10 Load(1550) ->  1 Load(1820) ->  0 Load(1820)\n",
            "Distance of the route: 530.4km\n",
            "Load of the route: 1820\n",
            "\n",
            "Total distance of all routes: 1755.9km\n",
            "Total load of all routes: 5306\n"
          ]
        }
      ],
      "source": [
        "from ortools.constraint_solver import routing_enums_pb2\n",
        "from ortools.constraint_solver import pywrapcp\n",
        "\n",
        "def create_data_model():\n",
        "    \"\"\"Stores the data for the problem.\"\"\"\n",
        "    data = {}\n",
        "    # Data multiplied by a factor of 10 to avoid non-integer numbers\n",
        "    data['distance_matrix'] = [\n",
        "        [0, 8, 37, 750, 1700, 247, 2890, 2910, 2750, 2990, 2620, 2650],\n",
        "        [8, 0, 7, 644, 1590, 200, 2870, 2790, 2660, 2880, 2510, 2550],\n",
        "        [37, 7, 0, 638, 1580, 193, 2750, 2780, 2650, 2790, 2510, 2540],\n",
        "        [750, 644, 638, 0, 1080, 488, 2240, 2280, 2120, 2250, 2000, 2020],\n",
        "        [1700, 1590, 1580, 1080, 0, 1430, 1250, 1280, 1130, 1260, 979, 1010],\n",
        "        [247, 200, 193, 488, 1430, 0, 2620, 2660, 2500, 2640, 2360, 2390],\n",
        "        [2890, 2870, 2750, 2240, 1250, 2620, 0, 114, 514, 16, 837, 884],\n",
        "        [2910, 2790, 2780, 2280, 1280, 2660, 114, 0, 632, 118, 887, 918],\n",
        "        [2750, 2660, 2650, 2120, 1130, 2500, 514, 632, 0, 521, 978, 1010],\n",
        "        [2990, 2880, 2790, 2250, 1260, 2640, 16, 118, 521, 0, 945, 976],\n",
        "        [2620, 2510, 2510, 2000, 979, 2360, 837, 887, 978, 945, 0, 31],\n",
        "        [2650, 2550, 2540, 2020, 1010, 2390, 884, 918, 1010, 976, 31, 0]\n",
        "    ]\n",
        "    data['demands'] = [0, 270, 37, 463, 150, 150, 879, 229, 316, 1875, 712, 225]\n",
        "    data['vehicle_capacities'] = [1875, 1875, 1875]\n",
        "    data['num_vehicles'] = 3\n",
        "    data['depot'] = 0\n",
        "    return data\n",
        "\n",
        "\n",
        "def print_solution(data, manager, routing, solution):\n",
        "    \"\"\"Prints solution on console.\"\"\"\n",
        "    total_distance = 0\n",
        "    total_load = 0\n",
        "    for vehicle_id in range(data['num_vehicles']):\n",
        "        index = routing.Start(vehicle_id)\n",
        "        plan_output = 'Route for vehicle {}:\\n'.format(vehicle_id)\n",
        "        route_distance = 0\n",
        "        route_load = 0\n",
        "        while not routing.IsEnd(index):\n",
        "            node_index = manager.IndexToNode(index)\n",
        "            route_load += data['demands'][node_index]\n",
        "            plan_output += ' {0} Load({1}) -> '.format(node_index, route_load)\n",
        "            previous_index = index\n",
        "            index = solution.Value(routing.NextVar(index))\n",
        "            route_distance += routing.GetArcCostForVehicle(\n",
        "                previous_index, index, vehicle_id)\n",
        "        plan_output += ' {0} Load({1})\\n'.format(manager.IndexToNode(index),\n",
        "                                                 route_load)\n",
        "        plan_output += 'Distance of the route: {}km\\n'.format(route_distance/10)\n",
        "        plan_output += 'Load of the route: {}\\n'.format(route_load)\n",
        "        print(plan_output)\n",
        "        total_distance += route_distance\n",
        "        total_load += route_load\n",
        "    print('Total distance of all routes: {}km'.format(total_distance/10))\n",
        "    print('Total load of all routes: {}'.format(total_load))\n",
        "\n",
        "\n",
        "def main():\n",
        "    \"\"\"Solve the CVRP problem.\"\"\"\n",
        "\n",
        "    ## TODO: Complete here\n",
        "\n",
        "\n",
        "main()\n",
        "\n"
      ]
    },
    {
      "cell_type": "markdown",
      "source": [
        "# 1. Assignment problem: workers - tasks\n",
        "We are given five workers (numbered 0-4) and four tasks (numbered 0-3) together with the costs of assigning workers to tasks, as shown in the next table. The goal is to assign each worker to at most one task, with no two workers performing the same task, while minimizing the total cost. Since there are more workers than tasks, one worker will not be assigned a task.\n",
        "\n",
        "![image.png](data:image/png;base64,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)"
      ],
      "metadata": {
        "id": "VWB6BZddNbyx"
      }
    },
    {
      "cell_type": "code",
      "execution_count": null,
      "metadata": {
        "id": "3RHkQyxQNKFS",
        "colab": {
          "base_uri": "https://localhost:8080/"
        },
        "outputId": "45eef37e-d0cb-4504-89fa-5b270bef0a38"
      },
      "outputs": [
        {
          "output_type": "stream",
          "name": "stdout",
          "text": [
            "Collecting ortools\n",
            "  Downloading ortools-9.9.3963-cp310-cp310-manylinux_2_17_x86_64.manylinux2014_x86_64.whl (24.8 MB)\n",
            "\u001b[2K     \u001b[90m━━━━━━━━━━━━━━━━━━━━━━━━━━━━━━━━━━━━━━━━\u001b[0m \u001b[32m24.8/24.8 MB\u001b[0m \u001b[31m52.9 MB/s\u001b[0m eta \u001b[36m0:00:00\u001b[0m\n",
            "\u001b[?25hCollecting absl-py>=2.0.0 (from ortools)\n",
            "  Downloading absl_py-2.1.0-py3-none-any.whl (133 kB)\n",
            "\u001b[2K     \u001b[90m━━━━━━━━━━━━━━━━━━━━━━━━━━━━━━━━━━━━━━━━\u001b[0m \u001b[32m133.7/133.7 kB\u001b[0m \u001b[31m17.3 MB/s\u001b[0m eta \u001b[36m0:00:00\u001b[0m\n",
            "\u001b[?25hRequirement already satisfied: numpy>=1.13.3 in /usr/local/lib/python3.10/dist-packages (from ortools) (1.25.2)\n",
            "Collecting pandas>=2.0.0 (from ortools)\n",
            "  Downloading pandas-2.2.1-cp310-cp310-manylinux_2_17_x86_64.manylinux2014_x86_64.whl (13.0 MB)\n",
            "\u001b[2K     \u001b[90m━━━━━━━━━━━━━━━━━━━━━━━━━━━━━━━━━━━━━━━━\u001b[0m \u001b[32m13.0/13.0 MB\u001b[0m \u001b[31m83.4 MB/s\u001b[0m eta \u001b[36m0:00:00\u001b[0m\n",
            "\u001b[?25hCollecting protobuf>=4.25.3 (from ortools)\n",
            "  Downloading protobuf-4.25.3-cp37-abi3-manylinux2014_x86_64.whl (294 kB)\n",
            "\u001b[2K     \u001b[90m━━━━━━━━━━━━━━━━━━━━━━━━━━━━━━━━━━━━━━━━\u001b[0m \u001b[32m294.6/294.6 kB\u001b[0m \u001b[31m31.1 MB/s\u001b[0m eta \u001b[36m0:00:00\u001b[0m\n",
            "\u001b[?25hCollecting immutabledict>=3.0.0 (from ortools)\n",
            "  Downloading immutabledict-4.2.0-py3-none-any.whl (4.7 kB)\n",
            "Requirement already satisfied: python-dateutil>=2.8.2 in /usr/local/lib/python3.10/dist-packages (from pandas>=2.0.0->ortools) (2.8.2)\n",
            "Requirement already satisfied: pytz>=2020.1 in /usr/local/lib/python3.10/dist-packages (from pandas>=2.0.0->ortools) (2023.4)\n",
            "Collecting tzdata>=2022.7 (from pandas>=2.0.0->ortools)\n",
            "  Downloading tzdata-2024.1-py2.py3-none-any.whl (345 kB)\n",
            "\u001b[2K     \u001b[90m━━━━━━━━━━━━━━━━━━━━━━━━━━━━━━━━━━━━━━━━\u001b[0m \u001b[32m345.4/345.4 kB\u001b[0m \u001b[31m38.1 MB/s\u001b[0m eta \u001b[36m0:00:00\u001b[0m\n",
            "\u001b[?25hRequirement already satisfied: six>=1.5 in /usr/local/lib/python3.10/dist-packages (from python-dateutil>=2.8.2->pandas>=2.0.0->ortools) (1.16.0)\n",
            "Installing collected packages: tzdata, protobuf, immutabledict, absl-py, pandas, ortools\n",
            "  Attempting uninstall: protobuf\n",
            "    Found existing installation: protobuf 3.20.3\n",
            "    Uninstalling protobuf-3.20.3:\n",
            "      Successfully uninstalled protobuf-3.20.3\n",
            "  Attempting uninstall: absl-py\n",
            "    Found existing installation: absl-py 1.4.0\n",
            "    Uninstalling absl-py-1.4.0:\n",
            "      Successfully uninstalled absl-py-1.4.0\n",
            "  Attempting uninstall: pandas\n",
            "    Found existing installation: pandas 1.5.3\n",
            "    Uninstalling pandas-1.5.3:\n",
            "      Successfully uninstalled pandas-1.5.3\n",
            "\u001b[31mERROR: pip's dependency resolver does not currently take into account all the packages that are installed. This behaviour is the source of the following dependency conflicts.\n",
            "bigframes 0.22.0 requires pandas<2.1.4,>=1.5.0, but you have pandas 2.2.1 which is incompatible.\n",
            "google-colab 1.0.0 requires pandas==1.5.3, but you have pandas 2.2.1 which is incompatible.\n",
            "tensorflow-metadata 1.14.0 requires absl-py<2.0.0,>=0.9, but you have absl-py 2.1.0 which is incompatible.\n",
            "tensorflow-metadata 1.14.0 requires protobuf<4.21,>=3.20.3, but you have protobuf 4.25.3 which is incompatible.\u001b[0m\u001b[31m\n",
            "\u001b[0mSuccessfully installed absl-py-2.1.0 immutabledict-4.2.0 ortools-9.9.3963 pandas-2.2.1 protobuf-4.25.3 tzdata-2024.1\n"
          ]
        }
      ],
      "source": [
        "!pip install ortools\n",
        "from ortools.linear_solver import pywraplp"
      ]
    },
    {
      "cell_type": "markdown",
      "source": [
        "In the following code block we declare the function main() that, in order, is composed by the following steps:\n",
        "\n",
        "\n",
        "*   Declaration and initialization of the cost funtion, number of workers and tasks;\n",
        "*   Solver declaration;\n",
        "*   Variable declaration;\n",
        "*   Constraints logic;\n",
        "*   Objective function;\n",
        "*   Storing solver output in the status variable;\n",
        "*   Print solution.\n",
        "\n"
      ],
      "metadata": {
        "id": "-c1u1NOdOKuE"
      }
    },
    {
      "cell_type": "code",
      "source": [
        "def main():\n",
        "\n",
        "    # Data\n",
        "    costs = [\n",
        "        [45, 50, 90, 80],\n",
        "        [40, 70, 55, 70],\n",
        "        [130, 100, 40, 90],\n",
        "        [45, 80, 120, 50],\n",
        "        [40, 110, 80, 95],\n",
        "    ]\n",
        "    num_workers = len(costs)\n",
        "    num_tasks = len(costs[0])\n",
        "\n",
        "    # Solver\n",
        "    # Create the mip solver with the SCIP backend.\n",
        "\n",
        "\n",
        "    solver = pywraplp.Solver.CreateSolver('CLP')\n",
        "\n",
        "\n",
        "    # Variables\n",
        "    # x[i, j] is an array of 0-1 variables, which will be 1\n",
        "    # if worker i is assigned to task j.\n",
        "\n",
        "    x = {}\n",
        "    for i in range(num_workers):\n",
        "        for j in range(num_tasks):\n",
        "            x[i, j] = solver.IntVar(0, 1, '')\n",
        "\n",
        "    # Constraints\n",
        "\n",
        "    # Each worker is assigned to at most 1 task.\n",
        "    for i in range(num_workers):\n",
        "        solver.Add(solver.Sum([x[i, j] for j in range(num_tasks)]) <= 1)\n",
        "\n",
        "    # Each task is assigned to exactly one worker.\n",
        "    for j in range(num_tasks):\n",
        "        solver.Add(solver.Sum([x[i, j] for i in range(num_workers)]) == 1)\n",
        "\n",
        "    # Objective\n",
        "\n",
        "    solver.Minimize(solver.Sum([costs[i][j] * x[i,j] for i in range(num_workers)\n",
        "                                                  for j in range(num_tasks)]))\n",
        "\n",
        "    # Solve\n",
        "\n",
        "    status = solver.Solve()\n",
        "\n",
        "    # Print solution.\n",
        "    if status == pywraplp.Solver.OPTIMAL:\n",
        "        print('Total cost = ', solver.Objective().Value(), '\\n')\n",
        "        for i in range(num_workers):\n",
        "            for j in range(num_tasks):\n",
        "                # Test if x[i,j] is 1 (with tolerance for floating point arithmetic).\n",
        "                if x[i, j].solution_value() > 0.5:\n",
        "                    print('Worker %d assigned to task %d.  Cost = %d' %\n",
        "                          (i, j, costs[i][j]))\n"
      ],
      "metadata": {
        "id": "g2_vy39bOLCs"
      },
      "execution_count": null,
      "outputs": []
    },
    {
      "cell_type": "markdown",
      "source": [
        "Lastly, we call the function."
      ],
      "metadata": {
        "id": "Qc9C_fA5Pdeo"
      }
    },
    {
      "cell_type": "code",
      "source": [
        "main()"
      ],
      "metadata": {
        "colab": {
          "base_uri": "https://localhost:8080/"
        },
        "id": "AGoDkuj8Pguw",
        "outputId": "3866b602-af9b-4f81-f788-b1d3122a001d"
      },
      "execution_count": null,
      "outputs": [
        {
          "output_type": "stream",
          "name": "stdout",
          "text": [
            "Total cost =  180.0 \n",
            "\n",
            "Worker 0 assigned to task 1.  Cost = 50\n",
            "Worker 1 assigned to task 0.  Cost = 40\n",
            "Worker 2 assigned to task 2.  Cost = 40\n",
            "Worker 3 assigned to task 3.  Cost = 50\n"
          ]
        }
      ]
    },
    {
      "cell_type": "markdown",
      "source": [
        "### 2. Extension of problem 1\n",
        "There are many versions of the assignment problem, which have additional constraints on the workers or tasks. In this example you are given six workers divided into two teams, and each team can perform at most two tasks.\n",
        "The workers are divided as follows:\n",
        "\n",
        "*   Team one: 0, 1, 4\n",
        "*   Team two: 2, 3, 5\n",
        "\n",
        "\n",
        "The additional constraints need to be met:\n",
        "*   Each worker is assigned to at most 1 task\n",
        "*   Each task is assigned to exactly one worker\n",
        "*   Worker 0 has to be assigned to either task 2 or 3\n",
        "\n",
        "![image.png](data:image/png;base64,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)"
      ],
      "metadata": {
        "id": "MteyMAoIPktg"
      }
    },
    {
      "cell_type": "code",
      "source": [
        "#!pip install ortools\n",
        "from __future__ import print_function\n",
        "from ortools.linear_solver import pywraplp"
      ],
      "metadata": {
        "id": "oJyRXIysTiXj"
      },
      "execution_count": null,
      "outputs": []
    },
    {
      "cell_type": "code",
      "source": [
        "def main():\n",
        "  solver = pywraplp.Solver.CreateSolver('CLP')\n",
        "\n",
        "  cost = [[45, 50, 90, 80],\n",
        "        [40, 70, 55, 70],\n",
        "        [130, 100, 40, 90],\n",
        "        [45, 80, 120, 50],\n",
        "        [40, 110, 80, 95],\n",
        "        [55, 90, 70, 110]]\n",
        "\n",
        "  team1 = [0, 1, 4]\n",
        "  team2 = [2, 3, 5]\n",
        "  team_max = 2\n",
        "\n",
        "  num_workers = len(cost)\n",
        "  num_tasks = len(cost[1])\n",
        "\n",
        "  x = {}\n",
        "  for i in range(num_workers):\n",
        "    for j in range(num_tasks):\n",
        "      x[i, j] = solver.IntVar(0, 1, '')\n",
        "\n",
        "  # Objective\n",
        "  solver.Minimize(solver.Sum([cost[i][j] * x[i,j] for i in range(num_workers)\n",
        "                                                  for j in range(num_tasks)]))\n",
        "\n",
        "  # Constraints\n",
        "\n",
        "\n",
        "  # Each worker is assigned to at most 1 task.\n",
        "  for i in range(num_workers):\n",
        "    solver.Add(solver.Sum([x[i, j] for j in range(num_tasks)]) <= 1)\n",
        "\n",
        "  # Each task is assigned to exactly one worker.\n",
        "  for j in range(num_tasks):\n",
        "    solver.Add(solver.Sum([x[i, j] for i in range(num_workers)]) == 1)\n",
        "\n",
        "  # Worker 0 has to be assigned to either task 2 or 3\n",
        "  solver.Add(solver.Sum(x[0, j] for j in [2, 3]) == 1)\n",
        "\n",
        "\n",
        "  solver.Add(solver.Sum([x[i,j] for i in team1 for j in range(num_tasks)]) <= 2)\n",
        "  solver.Add(solver.Sum([x[i,j] for i in team2 for j in range(num_tasks)]) <= 2)\n",
        "\n",
        "\n",
        "  #solve the model\n",
        "  sol = solver.Solve()\n",
        "\n",
        "  print('Total cost = ', solver.Objective().Value())\n",
        "  print()\n",
        "  for i in range(num_workers):\n",
        "    for j in range(num_tasks):\n",
        "      if x[i, j].solution_value() > 0:\n",
        "        print('Worker %d assigned to task %d.  Cost = %d' % (\n",
        "              i,\n",
        "              j,\n",
        "              cost[i][j]))\n",
        "\n",
        "  print()\n",
        "  print(\"Time = \", solver.WallTime(), \" milliseconds\")"
      ],
      "metadata": {
        "id": "svxGlNybS9HL"
      },
      "execution_count": null,
      "outputs": []
    },
    {
      "cell_type": "code",
      "source": [
        "main()"
      ],
      "metadata": {
        "colab": {
          "base_uri": "https://localhost:8080/"
        },
        "id": "6V_iPg06TcmS",
        "outputId": "84922dc2-0245-415a-ffed-5bfcd73a8ad0"
      },
      "execution_count": null,
      "outputs": [
        {
          "output_type": "stream",
          "name": "stdout",
          "text": [
            "Total cost =  235.0\n",
            "\n",
            "Worker 0 assigned to task 3.  Cost = 80\n",
            "Worker 1 assigned to task 1.  Cost = 70\n",
            "Worker 2 assigned to task 2.  Cost = 40\n",
            "Worker 3 assigned to task 0.  Cost = 45\n",
            "\n",
            "Time =  6  milliseconds\n"
          ]
        }
      ]
    },
    {
      "cell_type": "markdown",
      "source": [
        "# Session 1 - Profit optimization"
      ],
      "metadata": {
        "id": "-9PG9rc4QAfH"
      }
    },
    {
      "cell_type": "code",
      "source": [
        "# Solver\n",
        "solver = pywraplp.Solver.CreateSolver('CBC')\n",
        "\n",
        "# Variables\n",
        "x = solver.IntVar(0, solver.infinity(), 'x')\n",
        "y = solver.IntVar(0, solver.infinity(), 'y')"
      ],
      "metadata": {
        "id": "fAnS4LVAeJGo"
      },
      "execution_count": null,
      "outputs": []
    },
    {
      "cell_type": "code",
      "source": [
        "solver.Add(240*x + 144*y <= 24000)\n",
        "solver.Add(60*x + 60*y <= 7680)\n",
        "\n",
        "solver.Maximize (300*x + 240*y)\n",
        "\n",
        "# Solve the system.\n",
        "status = solver.Solve()\n",
        "if status == pywraplp.Solver.OPTIMAL:\n",
        "    print('Solution:')\n",
        "    print('Objective value =', solver.Objective().Value())\n",
        "    print('A =', x.solution_value())\n",
        "    print('B =', y.solution_value())\n",
        "else:\n",
        "    print('The problem does not have an optimal solution.')\n",
        "\n",
        "    print('\\nAdvanced usage:')\n",
        "    print('Problem solved in %f milliseconds' % solver.wall_time())\n",
        "    print('Problem solved in %d iterations' % solver.iterations())\n",
        "    print('Problem solved in %d branch-and-bound nodes' % solver.nodes())"
      ],
      "metadata": {
        "colab": {
          "base_uri": "https://localhost:8080/"
        },
        "id": "GUUZkVNdfDh6",
        "outputId": "562428c8-d59b-4fc7-97a5-bf537605138c"
      },
      "execution_count": null,
      "outputs": [
        {
          "output_type": "stream",
          "name": "stdout",
          "text": [
            "Solution:\n",
            "Objective value = 34200.0\n",
            "A = 58.0\n",
            "B = 70.0\n"
          ]
        }
      ]
    },
    {
      "cell_type": "markdown",
      "source": [
        "# Session 2 -  Bike sharing truck servicing optimization"
      ],
      "metadata": {
        "id": "ynNmFPLISGqJ"
      }
    },
    {
      "cell_type": "code",
      "source": [
        "from ortools.linear_solver import pywraplp\n",
        "\n",
        "# Create the data\n",
        "stations = [\"A\", \"B\", \"C\", \"D\"]\n",
        "num_stations = len(stations)\n",
        "capacity = [12, 10, 8, 15]\n",
        "demand = [5, 10, 8, 3]\n",
        "bikes = [3, 8, 6, 9]\n",
        "cost = [\n",
        "  [0, 2, 3, 4],\n",
        "  [2, 0, 2, 3],\n",
        "  [3, 2, 0, 2],\n",
        "  [4, 3, 2, 0]\n",
        "]\n",
        "truck_capacity = 10\n",
        "\n",
        "\n",
        "# Create the solver\n",
        "solver = pywraplp.Solver.CreateSolver(\"SCIP\")\n",
        "\n",
        "# Define the decision variables\n",
        "x = {}\n",
        "for i in range(num_stations):\n",
        "    for j in range(num_stations):\n",
        "        if i != j:\n",
        "            x[i, j] = solver.IntVar(0, solver.infinity(), f'x_{stations[i]}_{stations[j]}')\n",
        "\n",
        "# Define the objective function\n",
        "solver.Minimize(solver.Sum(cost[i][j] * x[i, j] for i in range(num_stations) for j in range(num_stations) if i != j))\n",
        "\n",
        "# Add capacity constraints\n",
        "for i in range(num_stations):\n",
        "    solver.Add(solver.Sum(x[i, j] for j in range(num_stations) if j != i) <= bikes[i])\n",
        "    solver.Add(solver.Sum(x[j, i] for j in range(num_stations) if j != i) <= capacity[i])\n",
        "\n",
        "# Add demand constraints\n",
        "for i in range(num_stations):\n",
        "    solver.Add(solver.Sum(x[j, i] for j in range(num_stations) if j != i) - solver.Sum(x[i, j] for j in range(num_stations) if j != i) >= demand[i]- bikes[i])\n",
        "\n",
        "# Add truck capacity constraint\n",
        "solver.Add(solver.Sum(x[i, j] for i in range(num_stations) for j in range(num_stations) if i != j) <= truck_capacity)\n",
        "\n",
        "# Solve the problem\n",
        "status = solver.Solve()\n",
        "\n",
        "# Print the solution\n",
        "if status == pywraplp.Solver.OPTIMAL:\n",
        "    print('Total cost =', solver.Objective().Value())\n",
        "    for i in range(num_stations):\n",
        "        for j in range(num_stations):\n",
        "            if i != j:\n",
        "                print(f'x_{stations[i]}_{stations[j]} =', x[i, j].solution_value())\n",
        "else:\n",
        "    print('The problem does not have an optimal solution.')\n",
        "\n"
      ],
      "metadata": {
        "colab": {
          "base_uri": "https://localhost:8080/"
        },
        "id": "AVroZfoEVcoo",
        "outputId": "3958ba25-d7b3-487c-db49-b0bb24002e9a"
      },
      "execution_count": null,
      "outputs": [
        {
          "output_type": "stream",
          "name": "stdout",
          "text": [
            "Total cost = 18.0\n",
            "x_A_B = 0.0\n",
            "x_A_C = 0.0\n",
            "x_A_D = 0.0\n",
            "x_B_A = 0.0\n",
            "x_B_C = 0.0\n",
            "x_B_D = 0.0\n",
            "x_C_A = 0.0\n",
            "x_C_B = 0.0\n",
            "x_C_D = 0.0\n",
            "x_D_A = 2.0\n",
            "x_D_B = 2.0\n",
            "x_D_C = 2.0\n"
          ]
        }
      ]
    },
    {
      "cell_type": "code",
      "source": [
        "# Import networkx and matplotlib\n",
        "import networkx as nx\n",
        "import matplotlib.pyplot as plt\n",
        "\n",
        "# Create a network graph\n",
        "G = nx.DiGraph()\n",
        "\n",
        "# Add nodes for each station\n",
        "for i in range(num_stations):\n",
        "    G.add_node(stations[i])\n",
        "\n",
        "# Add edges for each bike movement\n",
        "for i in range(num_stations):\n",
        "    for j in range(num_stations):\n",
        "        if i != j and x[i, j].solution_value() > 0:\n",
        "            G.add_edge(stations[i], stations[j], weight=x[i, j].solution_value())\n",
        "\n",
        "# Draw the network graph with labels and edge weights\n",
        "pos = nx.circular_layout(G) # You can choose other layouts as well\n",
        "nx.draw(G, pos, with_labels=True, node_color=\"lightblue\", edge_color=\"gray\")\n",
        "labels = nx.get_edge_attributes(G, \"weight\")\n",
        "nx.draw_networkx_edge_labels(G, pos, edge_labels=labels)\n",
        "plt.show()\n"
      ],
      "metadata": {
        "colab": {
          "base_uri": "https://localhost:8080/",
          "height": 516
        },
        "id": "Xe9wTT-jVGHL",
        "outputId": "eca4aa07-6dfe-418a-dccf-a37871df1c7f"
      },
      "execution_count": null,
      "outputs": [
        {
          "output_type": "display_data",
          "data": {
            "text/plain": [
              "<Figure size 640x480 with 1 Axes>"
            ],
            "image/png": "[encoded data removed]"
          },
          "metadata": {}
        }
      ]
    },
    {
      "cell_type": "markdown",
      "source": [
        "# Session 3 - TSP (i): Optimal Depot Location\n",
        "\n",
        "Scenario:\n",
        "You are a group of students enrolled in an operations research course. Your latest assignment involves analyzing the logistics organization of Colissimo, a parcel delivery service operating in France. Colissimo wants to improve its deliveries between its various post offices in Paris, particularly in the 10th arrondissement, and is considering opening a new depot in the area. Your task is to determine the best location for this new depot among three options provided by Colissimo.\n",
        "\n",
        "Objective:\n",
        "Your objective is to minimize the traveled distance for Colissimo's delivery routes while also considering potential reductions in CO2 emissions to align with Colissimo's ecological responsibilities.\n",
        "\n",
        "Data:\n",
        "You have been provided with data describing the locations of post offices in Paris, including their addresses and geographic coordinates. Additionally, you have a distance matrix calculated based on driving distances between these locations, as well as information about the three possible depot locations: Métro Jean Jaurès, Station de métro \"Couronnes,\" and Gare Paris Saint-Lazare."
      ],
      "metadata": {
        "id": "2pKhMqu0AueO"
      }
    },
    {
      "cell_type": "code",
      "source": [
        "from ortools.constraint_solver import pywrapcp\n",
        "from ortools.constraint_solver import routing_enums_pb2\n",
        "\n",
        "\n",
        "# TSP with 11 locations\n",
        "\n",
        "def create_data_model():\n",
        "    \"\"\"Stores the data for the problem.\"\"\"\n",
        "    # address: 0: 38 Boulevard de Strasbourg, 1: 169 Rue du Faubourg St. Denis, 2: 56 Rue Rene Boulanger, 3: 228 Rue du Faubourg St. Martin, 4: 18 Boulevard de bonne nouvelle, 5: 46 Rue de Sambre et Meuse, 6: 11 Rue Leon Jouhaux, 7: 158 Rue du Faubourg St. Martin, 8: 2 square Alban Satragne, 9: 8 Rue de Dunkerque, 10: 4 Rue du 8 Mai 1945, 11: depot 1\n",
        "    data = {}\n",
        "    data['distance_matrix'] = [\n",
        "        [0, 850, 1000, 1300, 1300, 2300, 1400, 650, 550, 1100, 550, 2300],\n",
        "        [2700, 0, 2900, 1500, 3100, 2500, 3700, 1900, 2300, 260, 2000, 2000],\n",
        "        [1100, 1400, 0, 1600, 1700, 2800, 1200, 1100, 1100, 1700, 1100, 2700],\n",
        "        [1200, 1500, 1600, 0, 1900, 1500, 2300, 550, 1100, 1000, 700, 1100],\n",
        "        [1300, 3100, 1400, 1900, 0, 3000, 1200, 1400, 1200, 1700, 1200, 3000],\n",
        "        [2300, 1800, 2900, 1200, 3100, 0, 2100, 1700, 2400, 2100, 1900, 1900],\n",
        "        [2000, 2700, 2500, 2100, 1900, 2000, 0, 2200, 2200, 3000, 2200, 2800],\n",
        "        [750, 950, 1100, 250, 1300, 1600, 1800, 0, 600, 1200, 160, 1600],\n",
        "        [550, 2300, 1100, 1100, 1200, 2300, 1500, 700, 0, 1200, 550, 2300],\n",
        "        [1200, 300, 1500, 1100, 1600, 2400, 2200, 950, 650, 0, 800, 1900],\n",
        "        [1300, 1400, 1600, 1400, 1900, 2400, 2300, 800, 1100, 1600 ,0, 2400],\n",
        "        [1900, 1100, 2100, 550, 2400, 1200, 2900, 1100, 1700, 1400, 1300, 0]]\n",
        "\n",
        "\n",
        "    data['num_vehicles'] = 1\n",
        "\n",
        "    # The index of the depot, the location where all vehicles start and end their routes.\n",
        "    data['depot'] = 0\n",
        "    return data\n",
        "\n",
        "def print_solution(manager, routing, solution):\n",
        "    \"\"\"Prints solution on console.\"\"\"\n",
        "    print('Objective: {} m'.format(solution.ObjectiveValue()))\n",
        "    index = routing.Start(0)\n",
        "    plan_output = 'Route for vehicle 0:\\n'\n",
        "    route_distance = 0\n",
        "    while not routing.IsEnd(index):\n",
        "        plan_output += ' {} ->'.format(manager.IndexToNode(index))\n",
        "        previous_index = index\n",
        "        index = solution.Value(routing.NextVar(index))\n",
        "        route_distance += routing.GetArcCostForVehicle(previous_index, index, 0)\n",
        "    plan_output += ' {}\\n'.format(manager.IndexToNode(index))\n",
        "    print(plan_output)\n",
        "    plan_output += 'Route distance: {}miles\\n'.format(route_distance)\n",
        "\n",
        "\n",
        "def main():\n",
        "    \"\"\"Entry point of the program.\"\"\"\n",
        "    # Instantiate the data problem.\n",
        "    data = create_data_model()\n",
        "\n",
        "    # Create the routing index manager.\n",
        "    manager = pywrapcp.RoutingIndexManager(len(data['distance_matrix']),\n",
        "                                           data['num_vehicles'], data['depot'])\n",
        "\n",
        "    # Create Routing Model.\n",
        "    routing = pywrapcp.RoutingModel(manager)\n",
        "\n",
        "\n",
        "def distance_callback(from_index, to_index):\n",
        "        \"\"\"Returns the distance between the two nodes.\"\"\"\n",
        "        # Convert from routing variable Index to distance matrix NodeIndex.\n",
        "        from_node = manager.IndexToNode(from_index)\n",
        "        to_node = manager.IndexToNode(to_index)\n",
        "        return data['distance_matrix'][from_node][to_node]\n",
        "\n",
        "\n",
        "data = create_data_model()\n",
        "\n",
        "manager = pywrapcp.RoutingIndexManager(len(data['distance_matrix']),\n",
        "                                       data['num_vehicles'], data['depot'])\n",
        "\n",
        "routing = pywrapcp.RoutingModel(manager)\n",
        "\n",
        "transit_callback_index = routing.RegisterTransitCallback(distance_callback)\n",
        "\n",
        "routing.SetArcCostEvaluatorOfAllVehicles(transit_callback_index)\n",
        "\n",
        "search_parameters = pywrapcp.DefaultRoutingSearchParameters()\n",
        "search_parameters.first_solution_strategy = (\n",
        "        routing_enums_pb2.FirstSolutionStrategy.PATH_CHEAPEST_ARC)\n",
        "\n",
        "\n",
        "solution = routing.SolveWithParameters(search_parameters)\n",
        "\n",
        "if solution:\n",
        "        print_solution(manager, routing, solution)\n",
        "\n"
      ],
      "metadata": {
        "colab": {
          "base_uri": "https://localhost:8080/"
        },
        "id": "iSrZgK_EBCMs",
        "outputId": "36225ed9-3f13-479c-93f7-808fdc2aada3"
      },
      "execution_count": null,
      "outputs": [
        {
          "output_type": "stream",
          "name": "stdout",
          "text": [
            "Objective: 11920 m\n",
            "Route for vehicle 0:\n",
            " 3 -> 7 -> 10 -> 1 -> 9 -> 8 -> 0 -> 4 -> 2 -> 6 -> 5 -> 11 -> 3\n",
            "\n"
          ]
        }
      ]
    },
    {
      "cell_type": "markdown",
      "source": [
        "# Seesion 3 - TSP: Delivery route optimization (incl. math)"
      ],
      "metadata": {
        "id": "rEHP1HIBXQIF"
      }
    },
    {
      "cell_type": "markdown",
      "source": [
        "Problem description:\n",
        "\n",
        "A delivery company operates a single truck that delivers packages to various locations in a city. The company wants to minimize the total cost of the delivery route, which includes the distance traveled, the fuel consumption, and the carbon emissions. The company also wants to promote sustainability and reduce its environmental impact.\n",
        "\n",
        "The truck has a fixed capacity of 100 packages, and each location has a demand of 1 to 10 packages. The truck starts and ends its route at the depot, which is located at the center of the city. The locations are randomly distributed within a 10 km by 10 km area.\n",
        "\n",
        "The distance between any two locations is calculated using the Euclidean formula. The fuel consumption and the carbon emission depend on the distance, the speed, the road conditions, and the truck characteristics. For simplicity, we assume that the fuel consumption is proportional to the distance, and the carbon emission is proportional to the fuel consumption.\n",
        "\n",
        "The company wants to find the optimal route for the truck that visits all the locations exactly once and returns to the depot, while satisfying the capacity and demand constraints, and minimizing the total cost.\n",
        "\n",
        "Mathematical model:\n",
        "\n",
        "Let n be the number of locations, including the depot. Let d[i][j] be the distance between location i and location j, for i, j = 0, ..., n-1. Let f[i][j] be the fuel consumption when traveling from location i to location j, for i, j = 0, ..., n-1. Let c[i][j] be the carbon emission when traveling from location i to location j, for i, j = 0, ..., n-1. Let w1, w2, and w3 be the weights for the distance, the fuel consumption, and the carbon emission, respectively. Let q[i] be the demand of location i, for i = 0, ..., n-1. Let Q be the capacity of the truck.\n",
        "\n",
        "The decision variables are:\n",
        "\n",
        "- x[i][j]: a binary variable that indicates whether the truck travels from location i to location j, for i, j = 0, ..., n-1.\n",
        "- y[i]: a continuous variable that indicates the position of location i in the route, for i = 0, ..., n-1.\n",
        "\n",
        "The objective function is:\n",
        "\n",
        "$$\\min \\sum_{i=0}^{n-1} \\sum_{j=0}^{n-1} (w_1 d_{ij} + w_2 f_{ij} + w_3 c_{ij}) x_{ij}$$\n",
        "\n",
        "The constraints are:\n",
        "\n",
        "- Flow conservation: for each location i, the truck can enter and leave at most once.\n",
        "\n",
        "$$\\sum_{j=0}^{n-1} x_{ij} = 1, \\quad \\forall i = 0, ..., n-1$$\n",
        "$$\\sum_{i=0}^{n-1} x_{ij} = 1, \\quad \\forall j = 0, ..., n-1$$\n",
        "\n",
        "- Subtour elimination: for each pair of locations i and j, the position of location i in the route must be smaller than the position of location j if the truck travels from i to j.\n",
        "\n",
        "$$y_i + 1 \\leq y_j + n (1 - x_{ij}), \\quad \\forall i, j = 1, ..., n-1, i \\neq j$$\n",
        "\n",
        "- Depot constraints: the position of the depot in the route must be 0.\n",
        "\n",
        "$$y_0 = 0$$\n",
        "\n",
        "- Capacity and demand constraints: the total demand of the locations visited by the truck must not exceed the capacity of the truck.\n",
        "\n",
        "$$\\sum_{i=0}^{n-1} \\sum_{j=0}^{n-1} q_j x_{ij} \\leq Q$$\n"
      ],
      "metadata": {
        "id": "q4SPs_3hdxAU"
      }
    },
    {
      "cell_type": "code",
      "source": [
        "# Import the libraries\n",
        "from ortools.constraint_solver import pywrapcp\n",
        "from ortools.linear_solver import pywraplp\n",
        "import numpy as np\n",
        "import math\n",
        "\n",
        "# Define the data\n",
        "\n",
        "# Number of locations, including depot\n",
        "num_locations = 10\n",
        "# Depot location\n",
        "depot = 0\n",
        "# Number of vehicles\n",
        "num_vehicles = 1\n",
        "# Capacity of the truck\n",
        "capacity = 100\n",
        "# Demands of the locations\n",
        "demands = np.random.randint(1, 11, size=num_locations)\n",
        "# Depot has no demand\n",
        "demands[depot] = 0\n",
        "# Size of the area\n",
        "area_size = 10\n",
        "# Coordinates of the locations\n",
        "locations = np.random.uniform(0, area_size, size=(num_locations, 2))\n",
        "# Distance matrix\n",
        "distance_matrix = np.zeros((num_locations, num_locations))\n",
        "# Fuel consumption matrix\n",
        "fuel_matrix = np.zeros((num_locations, num_locations))\n",
        "# Carbon emission matrix\n",
        "carbon_matrix = np.zeros((num_locations, num_locations))\n",
        "# Weight for the distance\n",
        "distance_weight = 1\n",
        "# Weight for the fuel consumption\n",
        "fuel_weight = 2\n",
        "# Weight for the carbon emission\n",
        "carbon_weight = 3\n",
        "# Factor for the fuel consumption\n",
        "fuel_factor = 0.1\n",
        "# Factor for the carbon emission\n",
        "carbon_factor = 2.4\n",
        "\n",
        "# Calculate the distance, the fuel consumption, and the carbon emission matrices\n",
        "for i in range(num_locations):\n",
        "    for j in range(num_locations):\n",
        "        if i != j:\n",
        "            distance_matrix[i][j] = math.sqrt((locations[i][0] - locations[j][0])**2 + (locations[i][1] - locations[j][1])**2)\n",
        "            fuel_matrix[i][j] = distance_matrix[i][j] * fuel_factor\n",
        "            carbon_matrix[i][j] = fuel_matrix[i][j] * carbon_factor\n",
        "\n",
        "# Create the routing model\n",
        "manager = pywrapcp.RoutingIndexManager(num_locations, num_vehicles, depot)\n",
        "routing = pywrapcp.RoutingModel(manager)\n",
        "\n",
        "# Define the cost function\n",
        "def cost_function(from_index, to_index):\n",
        "    # Convert from routing variable Index to distance matrix NodeIndex.\n",
        "    from_node = manager.IndexToNode(from_index)\n",
        "    to_node = manager.IndexToNode(to_index)\n",
        "    return int(distance_weight * distance_matrix[from_node][to_node] + fuel_weight * fuel_matrix[from_node][to_node] + carbon_weight * carbon_matrix[from_node][to_node])\n",
        "\n",
        "# Set the arc cost evaluator\n",
        "transit_callback_index = routing.RegisterTransitCallback(cost_function)\n",
        "routing.SetArcCostEvaluatorOfAllVehicles(transit_callback_index)\n",
        "\n",
        "# Add the capacity and demand constraints\n",
        "def demand_callback(from_index):\n",
        "    # Returns the demand of the node.\n",
        "    # Convert from routing variable Index to demands NodeIndex.\n",
        "    from_node = manager.IndexToNode(from_index)\n",
        "    return demands[from_node]\n",
        "\n",
        "demand_callback_index = routing.RegisterUnaryTransitCallback(demand_callback)\n",
        "routing.AddDimensionWithVehicleCapacity(\n",
        "    demand_callback_index,\n",
        "    0,  # null capacity slack\n",
        "    [capacity],  # vehicle maximum capacities\n",
        "    True,  # start cumul to zero\n",
        "    'Capacity')\n",
        "\n",
        "# Set the search parameters\n",
        "search_parameters = pywrapcp.DefaultRoutingSearchParameters()\n",
        "search_parameters.first_solution_strategy = (routing_enums_pb2.FirstSolutionStrategy.PATH_CHEAPEST_ARC)\n",
        "search_parameters.local_search_metaheuristic = (routing_enums_pb2.LocalSearchMetaheuristic.GUIDED_LOCAL_SEARCH)\n",
        "search_parameters.time_limit.FromSeconds(1)\n",
        "\n",
        "# Solve the problem\n",
        "solution = routing.SolveWithParameters(search_parameters)\n",
        "\n",
        "# Print the solution\n",
        "if solution:\n",
        "    print('Total cost = {}'.format(solution.ObjectiveValue()))\n",
        "    print('Route for vehicle 0:')\n",
        "    index = routing.Start(0)\n",
        "    route_distance = 0\n",
        "    route_fuel = 0\n",
        "    route_carbon = 0\n",
        "    while not routing.IsEnd(index):\n",
        "        node = manager.IndexToNode(index)\n",
        "        next_node = manager.IndexToNode(solution.Value(routing.NextVar(index)))\n",
        "        route_distance += distance_matrix[node][next_node]\n",
        "        route_fuel += fuel_matrix[node][next_node]\n",
        "        route_carbon += carbon_matrix[node][next_node]\n",
        "        print('{} -> '.format(node), end='')\n",
        "        index = solution.Value(routing.NextVar(index))\n",
        "    node = manager.IndexToNode(index)\n",
        "    print(node)\n",
        "    print('Route distance = {}'.format(route_distance))\n",
        "    print('Route fuel consumption = {}'.format(route_fuel))\n",
        "    print('Route carbon emission = {}'.format(route_carbon))\n",
        "else:\n",
        "    print('No solution found')\n"
      ],
      "metadata": {
        "colab": {
          "base_uri": "https://localhost:8080/"
        },
        "id": "h6DH_oMFdwS8",
        "outputId": "a2153f1a-91ed-4dc7-e45e-f71e5c4371d0"
      },
      "execution_count": null,
      "outputs": [
        {
          "output_type": "stream",
          "name": "stdout",
          "text": [
            "Total cost = 53\n",
            "Route for vehicle 0:\n",
            "0 -> 2 -> 3 -> 8 -> 1 -> 9 -> 5 -> 6 -> 7 -> 4 -> 0\n",
            "Route distance = 29.065564108790667\n",
            "Route fuel consumption = 2.906556410879067\n",
            "Route carbon emission = 6.97573538610976\n"
          ]
        }
      ]
    },
    {
      "cell_type": "code",
      "source": [
        "# Import matplotlib\n",
        "import matplotlib.pyplot as plt\n",
        "\n",
        "# Plot the locations\n",
        "plt.scatter(locations[:, 0], locations[:, 1], c='b')\n",
        "# Plot the depot\n",
        "plt.plot(locations[depot, 0], locations[depot, 1], c='r', marker='*')\n",
        "# Plot the route\n",
        "index = routing.Start(0)\n",
        "while not routing.IsEnd(index):\n",
        "    node = manager.IndexToNode(index)\n",
        "    next_node = manager.IndexToNode(solution.Value(routing.NextVar(index)))\n",
        "    # Draw a line from node to next_node\n",
        "    plt.plot([locations[node, 0], locations[next_node, 0]], [locations[node, 1], locations[next_node, 1]], c='g')\n",
        "    index = solution.Value(routing.NextVar(index))\n",
        "# Show the plot\n",
        "plt.show()\n"
      ],
      "metadata": {
        "colab": {
          "base_uri": "https://localhost:8080/",
          "height": 430
        },
        "id": "DJfJTk-AlRjZ",
        "outputId": "7f76dd96-e740-437f-b4a2-d164afbb3734"
      },
      "execution_count": null,
      "outputs": [
        {
          "output_type": "display_data",
          "data": {
            "text/plain": [
              "<Figure size 640x480 with 1 Axes>"
            ],
            "image/png": "[encoded data removed]"
          },
          "metadata": {}
        }
      ]
    }
  ]
}